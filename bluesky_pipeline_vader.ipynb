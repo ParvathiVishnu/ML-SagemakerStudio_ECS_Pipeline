{
 "cells": [
  {
   "cell_type": "code",
   "execution_count": 1,
   "id": "59867f40-12bc-44f3-a2bf-2d59061492ed",
   "metadata": {
    "execution": {
     "iopub.execute_input": "2025-06-29T01:43:42.381667Z",
     "iopub.status.busy": "2025-06-29T01:43:42.381266Z",
     "iopub.status.idle": "2025-06-29T01:43:42.881971Z",
     "shell.execute_reply": "2025-06-29T01:43:42.880947Z",
     "shell.execute_reply.started": "2025-06-29T01:43:42.381632Z"
    }
   },
   "outputs": [],
   "source": [
    "# --- 🔧 Imports\n",
    "import boto3\n",
    "import pandas as pd\n",
    "import json\n",
    "from vaderSentiment.vaderSentiment import SentimentIntensityAnalyzer"
   ]
  },
  {
   "cell_type": "code",
   "execution_count": 2,
   "id": "1242f48c-dc1d-4db0-b1ff-b972ec1815fb",
   "metadata": {
    "execution": {
     "iopub.execute_input": "2025-06-29T01:43:42.883842Z",
     "iopub.status.busy": "2025-06-29T01:43:42.883265Z",
     "iopub.status.idle": "2025-06-29T01:43:43.231016Z",
     "shell.execute_reply": "2025-06-29T01:43:43.229852Z",
     "shell.execute_reply.started": "2025-06-29T01:43:42.883811Z"
    }
   },
   "outputs": [
    {
     "name": "stdout",
     "output_type": "stream",
     "text": [
      "✅ Ingested 431 posts from raw/bluesky_posts.json\n"
     ]
    }
   ],
   "source": [
    "# --- 🔗 Load from S3\n",
    "s3 = boto3.client(\"s3\")\n",
    "bucket = \"bluesky-raw-posts-parvathi\"\n",
    "key = \"raw/bluesky_posts.json\"\n",
    "\n",
    "try:\n",
    "    content = s3.get_object(Bucket=bucket, Key=key)[\"Body\"].read().decode(\"utf-8\")\n",
    "    records = json.loads(content)\n",
    "    all_posts = [item[\"post\"] for item in records if isinstance(item, dict) and \"post\" in item]\n",
    "    post_df = pd.DataFrame(all_posts)\n",
    "    print(f\"✅ Ingested {len(post_df)} posts from {key}\")\n",
    "except Exception as e:\n",
    "    print(f\"❌ Failed to ingest posts: {e}\")\n",
    "    raise"
   ]
  },
  {
   "cell_type": "code",
   "execution_count": 3,
   "id": "07088a3d-9d9c-4e81-8a9c-e8ce25baaf79",
   "metadata": {
    "collapsed": true,
    "execution": {
     "iopub.execute_input": "2025-06-29T01:43:43.233073Z",
     "iopub.status.busy": "2025-06-29T01:43:43.232451Z",
     "iopub.status.idle": "2025-06-29T01:43:43.302580Z",
     "shell.execute_reply": "2025-06-29T01:43:43.301710Z",
     "shell.execute_reply.started": "2025-06-29T01:43:43.233030Z"
    },
    "jupyter": {
     "outputs_hidden": true
    }
   },
   "outputs": [
    {
     "name": "stdout",
     "output_type": "stream",
     "text": [
      "neutral     206\n",
      "positive    158\n",
      "negative     67\n",
      "Name: label, dtype: int64\n"
     ]
    }
   ],
   "source": [
    "# --- 🧼 Preprocess\n",
    "post_df[\"text\"] = post_df[\"record\"].apply(lambda r: r.get(\"text\") if isinstance(r, dict) else None)\n",
    "post_df = post_df.dropna(subset=[\"text\"])\n",
    "\n",
    "# --- 🧠 VADER Labeling\n",
    "analyzer = SentimentIntensityAnalyzer()\n",
    "\n",
    "def vader_label(text):\n",
    "    score = analyzer.polarity_scores(text)[\"compound\"]\n",
    "    if score >= 0.2:\n",
    "        return \"positive\"\n",
    "    elif score <= -0.2:\n",
    "        return \"negative\"\n",
    "    else:\n",
    "        return \"neutral\"\n",
    "\n",
    "post_df[\"label\"] = post_df[\"text\"].apply(vader_label)\n",
    "print(post_df[\"label\"].value_counts())\n"
   ]
  },
  {
   "cell_type": "code",
   "execution_count": null,
   "id": "56aa41ef-6807-4022-b6a5-6d51ae6a0fa9",
   "metadata": {
    "execution": {
     "iopub.execute_input": "2025-06-29T01:43:43.305665Z",
     "iopub.status.busy": "2025-06-29T01:43:43.304918Z",
     "iopub.status.idle": "2025-06-29T01:43:43.868124Z",
     "shell.execute_reply": "2025-06-29T01:43:43.867023Z",
     "shell.execute_reply.started": "2025-06-29T01:43:43.305636Z"
    }
   },
   "outputs": [
    {
     "name": "stdout",
     "output_type": "stream",
     "text": [
      "              precision    recall  f1-score   support\n",
      "\n",
      "    negative       0.00      0.00      0.00        13\n",
      "     neutral       0.52      0.79      0.63        42\n",
      "    positive       0.46      0.34      0.39        32\n",
      "\n",
      "    accuracy                           0.51        87\n",
      "   macro avg       0.33      0.38      0.34        87\n",
      "weighted avg       0.42      0.51      0.45        87\n",
      "\n"
     ]
    },
    {
     "name": "stderr",
     "output_type": "stream",
     "text": [
      "/home/sagemaker-user/.conda/envs/bluesky-env/lib/python3.9/site-packages/sklearn/metrics/_classification.py:1344: UndefinedMetricWarning: Precision and F-score are ill-defined and being set to 0.0 in labels with no predicted samples. Use `zero_division` parameter to control this behavior.\n",
      "  _warn_prf(average, modifier, msg_start, len(result))\n",
      "/home/sagemaker-user/.conda/envs/bluesky-env/lib/python3.9/site-packages/sklearn/metrics/_classification.py:1344: UndefinedMetricWarning: Precision and F-score are ill-defined and being set to 0.0 in labels with no predicted samples. Use `zero_division` parameter to control this behavior.\n",
      "  _warn_prf(average, modifier, msg_start, len(result))\n",
      "/home/sagemaker-user/.conda/envs/bluesky-env/lib/python3.9/site-packages/sklearn/metrics/_classification.py:1344: UndefinedMetricWarning: Precision and F-score are ill-defined and being set to 0.0 in labels with no predicted samples. Use `zero_division` parameter to control this behavior.\n",
      "  _warn_prf(average, modifier, msg_start, len(result))\n"
     ]
    }
   ],
   "source": [
    "#---Training the model\n",
    "\n",
    "from sklearn.model_selection import train_test_split\n",
    "from sklearn.pipeline import Pipeline\n",
    "from sklearn.feature_extraction.text import TfidfVectorizer\n",
    "from sklearn.linear_model import LogisticRegression\n",
    "from sklearn.metrics import classification_report\n",
    "import joblib\n",
    "import os\n",
    "import tarfile\n",
    "\n",
    "X = post_df[\"text\"]\n",
    "y = post_df[\"label\"]\n",
    "\n",
    "X_train, X_test, y_train, y_test = train_test_split(\n",
    "    X, y, stratify=y, test_size=0.2, random_state=42\n",
    ")\n",
    "\n",
    "pipeline = Pipeline([\n",
    "    (\"tfidf\", TfidfVectorizer(stop_words=\"english\")),\n",
    "    (\"clf\", LogisticRegression(max_iter=300))\n",
    "])\n",
    "\n",
    "pipeline.fit(X_train, y_train)\n",
    "\n",
    "# Evaluation\n",
    "y_pred = pipeline.predict(X_test)\n",
    "print(classification_report(y_test, y_pred))\n",
    "\n",
    "# Save model to tar.gz for SageMaker\n",
    "os.makedirs(\"bluesky_model\", exist_ok=True)\n",
    "joblib.dump(pipeline, \"bluesky_model/model.joblib\")\n",
    "\n",
    "with tarfile.open(\"bluesky_model/bluesky_model.tar.gz\", \"w:gz\") as tar:\n",
    "    tar.add(\"bluesky_model/model.joblib\", arcname=\"model.joblib\")\n",
    "\n"
   ]
  },
  {
   "cell_type": "code",
   "execution_count": null,
   "id": "fd4ca81e-5f74-46ba-8512-b551cef6015d",
   "metadata": {
    "execution": {
     "iopub.execute_input": "2025-06-29T01:43:43.870395Z",
     "iopub.status.busy": "2025-06-29T01:43:43.869553Z"
    }
   },
   "outputs": [
    {
     "name": "stdout",
     "output_type": "stream",
     "text": [
      "sagemaker.config INFO - Not applying SDK defaults from location: /etc/xdg/sagemaker/config.yaml\n",
      "sagemaker.config INFO - Not applying SDK defaults from location: /home/sagemaker-user/.config/sagemaker/config.yaml\n",
      "-----"
     ]
    }
   ],
   "source": [
    "# --- Upload to S3\n",
    "s3.upload_file(\n",
    "    Filename=\"bluesky_model/bluesky_model.tar.gz\",\n",
    "    Bucket=\"bluesky-raw-posts-parvathi\",\n",
    "    Key=\"model/bluesky_model.tar.gz\"\n",
    ")\n",
    "\n",
    "# --- Deploy Endpoint\n",
    "import sagemaker\n",
    "from sagemaker.sklearn.model import SKLearnModel\n",
    "\n",
    "role = sagemaker.get_execution_role()\n",
    "\n",
    "sklearn_model = SKLearnModel(\n",
    "    model_data=\"s3://bluesky-raw-posts-parvathi/model/bluesky_model.tar.gz\",\n",
    "    role=role,\n",
    "    entry_point=\"bluesky_handler.py\",\n",
    "    framework_version=\"1.2-1\",\n",
    "    py_version=\"py3\"\n",
    ")\n",
    "\n",
    "predictor = sklearn_model.deploy(\n",
    "    initial_instance_count=1,\n",
    "    instance_type=\"ml.m5.large\",\n",
    "    endpoint_name=\"bluesky-sentiment-endpoint\"\n",
    "\n",
    ")\n"
   ]
  },
  {
   "cell_type": "code",
   "execution_count": null,
   "id": "a7702225-5044-45cf-b738-95870e73d1a0",
   "metadata": {
    "execution": {
     "iopub.execute_input": "2025-06-29T01:48:54.337475Z",
     "iopub.status.busy": "2025-06-29T01:48:54.336926Z",
     "iopub.status.idle": "2025-06-29T01:48:54.401003Z",
     "shell.execute_reply": "2025-06-29T01:48:54.400143Z",
     "shell.execute_reply.started": "2025-06-29T01:48:54.337435Z"
    }
   },
   "outputs": [
    {
     "name": "stdout",
     "output_type": "stream",
     "text": [
      "🔮 Model Prediction: [{\"label\": \"positive\", \"confidence\": 0.4715}, {\"label\": \"neutral\", \"confidence\": 0.5336}, {\"label\": \"neutral\", \"confidence\": 0.4978}]\n"
     ]
    }
   ],
   "source": [
    "# --Locally testing inside jupyter notebook\n",
    "import boto3\n",
    "import json\n",
    "\n",
    "# --- Configuration\n",
    "endpoint_name = \"bluesky-sentiment-endpoint\"  \n",
    "region = \"ap-south-1\"\n",
    "\n",
    "# --- Sample input \n",
    "sample_input = {\n",
    "    \"inputs\": [\n",
    "        \"I absolutely love the interface!\",\n",
    "        \"Not impressed with this update.\",\n",
    "        \"Feels a bit clunky but it works.\"\n",
    "    ]\n",
    "}\n",
    "\n",
    "# --- Create a runtime client\n",
    "runtime = boto3.client(\"sagemaker-runtime\", region_name=region)\n",
    "\n",
    "# --- Make the request\n",
    "response = runtime.invoke_endpoint(\n",
    "    EndpointName=endpoint_name,\n",
    "    ContentType=\"application/json\",\n",
    "    Body=json.dumps(sample_input)\n",
    ")\n",
    "\n",
    "# --- Read and display the result\n",
    "result = response[\"Body\"].read().decode(\"utf-8\")\n",
    "print(\"🔮 Model Prediction:\", result)\n"
   ]
  },
  {
   "cell_type": "code",
   "execution_count": null,
   "id": "ea30a29a-5088-4e52-9b4a-ddb7e954e336",
   "metadata": {},
   "outputs": [],
   "source": []
  }
 ],
 "metadata": {
  "kernelspec": {
   "display_name": "Python (bluesky-env)",
   "language": "python",
   "name": "bluesky-env"
  },
  "language_info": {
   "codemirror_mode": {
    "name": "ipython",
    "version": 3
   },
   "file_extension": ".py",
   "mimetype": "text/x-python",
   "name": "python",
   "nbconvert_exporter": "python",
   "pygments_lexer": "ipython3",
   "version": "3.9.23"
  }
 },
 "nbformat": 4,
 "nbformat_minor": 5
}
